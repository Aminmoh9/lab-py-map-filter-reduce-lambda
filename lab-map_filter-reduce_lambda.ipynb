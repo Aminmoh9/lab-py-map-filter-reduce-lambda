{
 "cells": [
  {
   "cell_type": "markdown",
   "metadata": {},
   "source": [
    "# LAB | Map, Reduce, Filter, and Lambda in Python"
   ]
  },
  {
   "cell_type": "markdown",
   "metadata": {},
   "source": [
    "## Overview\n",
    "This exercise notebook will help you practice using `map`, `reduce`, `filter`, and `lambda` functions in Python. These functional programming techniques allow for concise and efficient data manipulation.\n",
    "\n",
    "## Instructions\n",
    "- Complete each exercise by writing the appropriate code in the provided space.\n",
    "- Test your code to ensure it works as expected.\n",
    "- Feel free to use comments to explain your thought process."
   ]
  },
  {
   "cell_type": "markdown",
   "metadata": {},
   "source": [
    "### Exercise 1: Triple All Numbers\n",
    "Write a Python program that triples all numbers in a given list of integers using the `map` function.\n"
   ]
  },
  {
   "cell_type": "code",
   "execution_count": 1,
   "metadata": {},
   "outputs": [
    {
     "name": "stdout",
     "output_type": "stream",
     "text": [
      "[3, 6, 9, 12, 15]\n"
     ]
    }
   ],
   "source": [
    "# Sample input\n",
    "numbers = [1, 2, 3, 4, 5]\n",
    "\n",
    "# Your code here\n",
    "triples = list(map(lambda x: x * 3, numbers))\n",
    "print(triples)"
   ]
  },
  {
   "cell_type": "code",
   "execution_count": 2,
   "metadata": {},
   "outputs": [
    {
     "name": "stdout",
     "output_type": "stream",
     "text": [
      "[3, 6, 9, 12, 15]\n"
     ]
    }
   ],
   "source": [
    "def triple(x):\n",
    "    return x*3\n",
    "\n",
    "resutl_tri=list(map(triple,numbers))\n",
    "print(resutl_tri)"
   ]
  },
  {
   "cell_type": "markdown",
   "metadata": {},
   "source": [
    "### Exercise 2: Add Three Lists\n",
    "Write a Python program that adds three given lists element-wise using the `map` function and `lambda`."
   ]
  },
  {
   "cell_type": "code",
   "execution_count": 3,
   "metadata": {},
   "outputs": [
    {
     "name": "stdout",
     "output_type": "stream",
     "text": [
      "[12, 15, 18]\n"
     ]
    }
   ],
   "source": [
    "# Sample input\n",
    "list1 = [1, 2, 3]\n",
    "list2 = [4, 5, 6]\n",
    "list3 = [7, 8, 9]\n",
    "\n",
    "# Your code here\n",
    "add_list_elementwise = list(map(lambda x, y, z: x + y + z, list1, list2, list3))\n",
    "print(add_list_elementwise)"
   ]
  },
  {
   "cell_type": "markdown",
   "metadata": {},
   "source": [
    "### Exercise 3: Listify Strings\n",
    "Write a Python program that converts a list of strings into a list of lists containing individual characters using the `map` function."
   ]
  },
  {
   "cell_type": "code",
   "execution_count": 4,
   "metadata": {},
   "outputs": [
    {
     "name": "stdout",
     "output_type": "stream",
     "text": [
      "[['h', 'e', 'l', 'l', 'o'], ['w', 'o', 'r', 'l', 'd']]\n"
     ]
    }
   ],
   "source": [
    "# Sample input\n",
    "strings = [\"hello\", \"world\"]\n",
    "\n",
    "# Your code here\n",
    "list_of_lists = list(map(list, strings))\n",
    "\n",
    "print(list_of_lists)\n"
   ]
  },
  {
   "cell_type": "markdown",
   "metadata": {},
   "source": [
    "### Exercise 4: Power of Numbers\n",
    "Write a Python program that creates a list containing the power of a number raised to the corresponding index in the list using the `map` function."
   ]
  },
  {
   "cell_type": "code",
   "execution_count": 5,
   "metadata": {},
   "outputs": [
    {
     "name": "stdout",
     "output_type": "stream",
     "text": [
      "[1, 2, 4, 8, 16]\n"
     ]
    }
   ],
   "source": [
    "# Sample input\n",
    "base_number = 2\n",
    "exponents = [0, 1, 2, 3, 4]\n",
    "\n",
    "# Your code here\n",
    "result = list(map(lambda x: base_number ** x, exponents))\n",
    "print(result)"
   ]
  },
  {
   "cell_type": "code",
   "execution_count": 6,
   "metadata": {},
   "outputs": [
    {
     "name": "stdout",
     "output_type": "stream",
     "text": [
      "[1, 2, 4, 8, 16]\n"
     ]
    }
   ],
   "source": [
    "def base_exp(x):\n",
    "    return base_number**x\n",
    "\n",
    "result_ex=list(map(base_exp,exponents))\n",
    "print(result_ex)\n"
   ]
  },
  {
   "cell_type": "markdown",
   "metadata": {},
   "source": [
    "### Exercise 5: Square Elements of a List\n",
    "Write a Python program that squares the elements of a given list using the `map` function."
   ]
  },
  {
   "cell_type": "code",
   "execution_count": 7,
   "metadata": {},
   "outputs": [
    {
     "name": "stdout",
     "output_type": "stream",
     "text": [
      "[1, 4, 9, 16]\n"
     ]
    }
   ],
   "source": [
    "# Sample input\n",
    "numbers = [1, 2, 3, 4]\n",
    "\n",
    "# Your code here\n",
    "squares = list(map(lambda x: x ** 2, numbers))\n",
    "print(squares)"
   ]
  },
  {
   "cell_type": "code",
   "execution_count": 8,
   "metadata": {},
   "outputs": [
    {
     "name": "stdout",
     "output_type": "stream",
     "text": [
      "[1, 4, 9, 16]\n"
     ]
    }
   ],
   "source": [
    "def squares(x):\n",
    "    return x**2\n",
    "result_=list(map(squares,numbers))\n",
    "print(result_)"
   ]
  },
  {
   "cell_type": "markdown",
   "metadata": {},
   "source": [
    "### Exercise 6: Filter Even Numbers\n",
    "Write a Python program that filters out even numbers from a list using the `filter` function and `lambda`.\n"
   ]
  },
  {
   "cell_type": "code",
   "execution_count": 12,
   "metadata": {},
   "outputs": [
    {
     "name": "stdout",
     "output_type": "stream",
     "text": [
      "[2, 4, 6]\n"
     ]
    }
   ],
   "source": [
    "# Sample input\n",
    "numbers = [1, 2, 3, 4, 5, 6]\n",
    "\n",
    "# Your code here\n",
    "filter_even= list(filter(lambda x: x % 2 ==0, numbers))\n",
    "print(filter_even)"
   ]
  },
  {
   "cell_type": "markdown",
   "metadata": {},
   "source": [
    "### Exercise 7: Uppercase Conversion with Map\n",
    "Write a Python program that converts all characters in a given list of strings to uppercase using the `map` function."
   ]
  },
  {
   "cell_type": "code",
   "execution_count": 6,
   "metadata": {},
   "outputs": [
    {
     "name": "stdout",
     "output_type": "stream",
     "text": [
      "['HELLO', 'WORLD']\n"
     ]
    }
   ],
   "source": [
    "# Sample input\n",
    "words = [\"hello\", \"world\"]\n",
    "\n",
    "# Your code here\n",
    "def char_upp(x):\n",
    "    return x.upper()\n",
    "\n",
    "result_upp= list(map(char_upp,words))\n",
    "print(result_upp)"
   ]
  },
  {
   "cell_type": "code",
   "execution_count": 7,
   "metadata": {},
   "outputs": [
    {
     "name": "stdout",
     "output_type": "stream",
     "text": [
      "['HELLO', 'WORLD']\n"
     ]
    }
   ],
   "source": [
    "\n",
    "result_c = list(map(lambda x: x.upper(), words))\n",
    "print(result_c)"
   ]
  },
  {
   "cell_type": "markdown",
   "metadata": {},
   "source": [
    "### Exercise 8: Count Positive and Negative Numbers with Filter\n",
    "Write a Python program that counts how many positive and negative numbers are in a given list using the `filter` function."
   ]
  },
  {
   "cell_type": "code",
   "execution_count": 18,
   "metadata": {},
   "outputs": [
    {
     "name": "stdout",
     "output_type": "stream",
     "text": [
      "Number of positive numbers: 3\n",
      "Number of negative numbers: 3\n"
     ]
    }
   ],
   "source": [
    "# Sample input\n",
    "numbers = [-1, -2, -3, 1, 2, 3]\n",
    "\n",
    "# Your code here\n",
    "def positive_count(x):\n",
    "    return x>0\n",
    "def negative_count(x):\n",
    "    return x<0\n",
    "\n",
    "pos_count=len(list(filter(positive_count,numbers)))\n",
    "neg_count=len(list(filter(negative_count,numbers)))\n",
    "\n",
    "print(f\"Number of positive numbers:\",pos_count)\n",
    "print(f\"Number of negative numbers:\",neg_count)"
   ]
  },
  {
   "cell_type": "code",
   "execution_count": 19,
   "metadata": {},
   "outputs": [
    {
     "name": "stdout",
     "output_type": "stream",
     "text": [
      "Number of positive numbers: 3\n",
      "Number of negative numbers: 3\n"
     ]
    }
   ],
   "source": [
    "pos_count=len(list(filter(lambda x: x>0,numbers)))\n",
    "neg_count=len(list(filter(lambda x: x<0,numbers)))\n",
    "print(f\"Number of positive numbers:\",pos_count)\n",
    "print(f\"Number of negative numbers:\",neg_count)"
   ]
  },
  {
   "cell_type": "markdown",
   "metadata": {},
   "source": [
    "### Exercise 9: Sum of Squares with Reduce\n",
    "Using the `reduce` function from the `functools` module, compute the sum of squares of all numbers in a given list.\n"
   ]
  },
  {
   "cell_type": "code",
   "execution_count": 1,
   "metadata": {},
   "outputs": [
    {
     "name": "stdout",
     "output_type": "stream",
     "text": [
      "14\n"
     ]
    }
   ],
   "source": [
    "from functools import reduce\n",
    "\n",
    "# Sample input\n",
    "numbers = [1, 2, 3]\n",
    "\n",
    "# Your code here\n",
    "sum_sq = reduce(lambda x, y: x + y**2, numbers)\n",
    "print(sum_sq)"
   ]
  },
  {
   "cell_type": "code",
   "execution_count": 2,
   "metadata": {},
   "outputs": [
    {
     "name": "stdout",
     "output_type": "stream",
     "text": [
      "14\n"
     ]
    }
   ],
   "source": [
    "def sum_square(x,y):\n",
    "    return x + y**2\n",
    "sum_squar=reduce(sum_square,numbers)\n",
    "print(sum_squar)"
   ]
  },
  {
   "cell_type": "markdown",
   "metadata": {},
   "source": [
    "### Exercise 10: Lambda Function for Addition\n",
    "Create a lambda function that adds two numbers and test it with sample inputs."
   ]
  },
  {
   "cell_type": "code",
   "execution_count": 25,
   "metadata": {},
   "outputs": [
    {
     "name": "stdout",
     "output_type": "stream",
     "text": [
      "50\n"
     ]
    }
   ],
   "source": [
    "# Your code here\n",
    "add = lambda x, y: x + y\n",
    "\n",
    "# Test the lambda function with sample inputs\n",
    "result = add(20, 30)\n",
    "print(result) # Expected output:"
   ]
  },
  {
   "cell_type": "markdown",
   "metadata": {},
   "source": [
    "### Exercise 11: Filter Strings with Specific Lengths \n",
    "Write a Python program that filters strings from a list based on their length using the `filter` function."
   ]
  },
  {
   "cell_type": "code",
   "execution_count": 1,
   "metadata": {},
   "outputs": [
    {
     "name": "stdout",
     "output_type": "stream",
     "text": [
      "Long words: ['banana', 'cherry']\n",
      "Short words: ['apple', 'date']\n"
     ]
    }
   ],
   "source": [
    "# Sample input\n",
    "words = [\"apple\", \"banana\", \"cherry\", \"date\"]\n",
    "\n",
    "length=5\n",
    "# Your code here\n",
    "def long_word(word):\n",
    "    return len(word) > length\n",
    "def short_word(word):\n",
    "    return len(word) <= length\n",
    "\n",
    "long_w=list(filter(long_word,words))\n",
    "short_w=list(filter(short_word,words))\n",
    "\n",
    "print(f\"Long words:\",long_w)\n",
    "print(f\"Short words:\",short_w)"
   ]
  },
  {
   "cell_type": "code",
   "execution_count": 3,
   "metadata": {},
   "outputs": [
    {
     "name": "stdout",
     "output_type": "stream",
     "text": [
      "Long words: ['apple', 'banana', 'cherry']\n",
      "Short words: ['date']\n"
     ]
    }
   ],
   "source": [
    "length = 4\n",
    "long_wd = list(filter(lambda word: len(word) > length, words))\n",
    "short_wd = list(filter(lambda word: len(word) <= length, words))\n",
    "\n",
    "print(f\"Long words: {long_wd}\")\n",
    "print(f\"Short words: {short_wd}\")"
   ]
  },
  {
   "cell_type": "markdown",
   "metadata": {},
   "source": [
    "### Exercise 12: Sort List of Tuples by Second Element \n",
    "Write a Python program that sorts a list of tuples based on the second element using the `sorted()` function and `lambda`."
   ]
  },
  {
   "cell_type": "code",
   "execution_count": 6,
   "metadata": {},
   "outputs": [
    {
     "name": "stdout",
     "output_type": "stream",
     "text": [
      "[('b', 1), ('a', 2), ('c', 3)]\n"
     ]
    }
   ],
   "source": [
    "# Sample input\n",
    "tuples_list = [('a', 2), ('b', 1), ('c', 3)]\n",
    "\n",
    "# Your code here\n",
    "sorted_list = sorted(tuples_list, key=lambda x: x[1])\n",
    "print(sorted_list)\n"
   ]
  },
  {
   "cell_type": "markdown",
   "metadata": {},
   "source": [
    "### Exercise 13: Create Fibonacci Series Using Lambda \n",
    "Write a Python program to create Fibonacci series up to n using lambda functions."
   ]
  },
  {
   "cell_type": "code",
   "execution_count": 9,
   "metadata": {},
   "outputs": [
    {
     "name": "stdout",
     "output_type": "stream",
     "text": [
      "Fibonacci series up to 5 : [0, 1, 1, 2, 3]\n"
     ]
    }
   ],
   "source": [
    "n = int(input(\"Enter n: \")) # e.g., n=5\n",
    "\n",
    "# Your code here\n",
    "fibonacci_series = lambda n: reduce(lambda x, _: x + [x[-1] + x[-2]], range(n - 2), [0, 1]) if n > 0 else []\n",
    "\n",
    "result = fibonacci_series(n)\n",
    "print(\"Fibonacci series up to\", n, \":\", result)"
   ]
  },
  {
   "cell_type": "markdown",
   "metadata": {},
   "source": [
    "### Exercise 14: Find Palindromes Using Filter \n",
    "Write a Python program that finds palindromes in a given list of strings using filter and lambda."
   ]
  },
  {
   "cell_type": "code",
   "execution_count": 11,
   "metadata": {},
   "outputs": [
    {
     "name": "stdout",
     "output_type": "stream",
     "text": [
      "['php', 'aaa']\n"
     ]
    }
   ],
   "source": [
    "strings = ['php', 'w3r', 'Python', 'abcd', 'Java', 'aaa']\n",
    "\n",
    "# Your code here\n",
    "palindromes = list(filter(lambda x: x == x[::-1], strings))\n",
    "print(palindromes)"
   ]
  },
  {
   "cell_type": "markdown",
   "metadata": {},
   "source": [
    "### Exercise 15: Extract Digits from String Using Lambda \n",
    "Write a Python program to extract digits from a given string and store them in a list using lambda."
   ]
  },
  {
   "cell_type": "code",
   "execution_count": 7,
   "metadata": {},
   "outputs": [
    {
     "name": "stdout",
     "output_type": "stream",
     "text": [
      "['2', '3', '8', '5', '8', '5', '6']\n"
     ]
    }
   ],
   "source": [
    "input_string = \"sdf23sa8fs5sdfsd8sdfs56\"\n",
    "\n",
    "# Your code here\n",
    "extracted_list = list(filter(lambda x: x.isdigit(), input_string))\n",
    "print(extracted_list)"
   ]
  },
  {
   "cell_type": "markdown",
   "metadata": {},
   "source": [
    "### Exercise 16: Count Vowels Using Lambda \n",
    "Write a Python program to count vowels in each word of a given list using map and lambda."
   ]
  },
  {
   "cell_type": "code",
   "execution_count": 12,
   "metadata": {},
   "outputs": [
    {
     "name": "stdout",
     "output_type": "stream",
     "text": [
      "[2, 3, 1]\n"
     ]
    }
   ],
   "source": [
    "words = ['apple', 'banana', 'cherry']\n",
    "\n",
    "# Your code here\n",
    "vowel_count = list(map(lambda word: sum(1 for letter in word.lower() if letter in \"aeiou\"), words))\n",
    "                      \n",
    "print(vowel_count)"
   ]
  },
  {
   "cell_type": "markdown",
   "metadata": {},
   "source": [
    "### Exercise 17: Remove Duplicates Using Lambda \n",
    "Write a Python program that removes duplicates from a list while preserving order using lambda functions."
   ]
  },
  {
   "cell_type": "code",
   "execution_count": 14,
   "metadata": {},
   "outputs": [
    {
     "name": "stdout",
     "output_type": "stream",
     "text": [
      "[1, 2, 3]\n"
     ]
    }
   ],
   "source": [
    "numbers = [1, 2, 3, 1, 2]\n",
    "\n",
    "# Your code here\n",
    "seen=set()\n",
    "new_list=list(filter(lambda x: x not in seen and not seen.add(x),numbers))\n",
    "print(new_list)\n"
   ]
  },
  {
   "cell_type": "markdown",
   "metadata": {},
   "source": [
    "### Exercise 18: Find Maximum Value Using Reduce \n",
    "Use the reduce function to find the maximum value in a list of integers."
   ]
  },
  {
   "cell_type": "code",
   "execution_count": 20,
   "metadata": {},
   "outputs": [
    {
     "name": "stdout",
     "output_type": "stream",
     "text": [
      "1\n"
     ]
    }
   ],
   "source": [
    "numbers = [1, -5, -10, -20]\n",
    "\n",
    "# Your code here\n",
    "\n",
    "maximum = reduce(lambda x, y: x if x > y else y, numbers)\n",
    "print(maximum)"
   ]
  },
  {
   "cell_type": "markdown",
   "metadata": {},
   "source": [
    "### Exercise 19: Filter Out Non-Numeric Values Using Lambda \n",
    "Write a Python program that filters out non-numeric values from an array using lambda functions."
   ]
  },
  {
   "cell_type": "code",
   "execution_count": 18,
   "metadata": {},
   "outputs": [
    {
     "name": "stdout",
     "output_type": "stream",
     "text": [
      "[1, -5.0]\n"
     ]
    }
   ],
   "source": [
    "mixed_list = [1, 'two', True, None, -5.0]\n",
    "\n",
    "# Your code here\n",
    "non_numeric = list(filter(lambda x: isinstance(x, (int,float)) and not isinstance(x,bool), mixed_list))\n",
    "print(non_numeric)\n"
   ]
  },
  {
   "cell_type": "markdown",
   "metadata": {},
   "source": [
    "### Exercise 20: Calculate Lengths of Strings Using Map \n",
    "Create a program that calculates the lengths of each string in a given list using map and lambda."
   ]
  },
  {
   "cell_type": "code",
   "execution_count": 27,
   "metadata": {},
   "outputs": [
    {
     "name": "stdout",
     "output_type": "stream",
     "text": [
      "[5, 6, 6]\n"
     ]
    }
   ],
   "source": [
    "strings = ['apple', 'banana', 'cherry']\n",
    "\n",
    "# Your code here\n",
    "len_strings=list(map(lambda x: len(x), strings))\n",
    "print(len_strings)"
   ]
  },
  {
   "cell_type": "markdown",
   "metadata": {},
   "source": [
    "### Exercise 21: Find Common Elements Between Two Lists Using Filter  \n",
    "Write a Python program to find common elements between two lists using filter and lambda."
   ]
  },
  {
   "cell_type": "code",
   "execution_count": 28,
   "metadata": {},
   "outputs": [
    {
     "name": "stdout",
     "output_type": "stream",
     "text": [
      "[2, 3]\n"
     ]
    }
   ],
   "source": [
    "list1 = [1,2,3]\n",
    "list2 = [2,3,4]\n",
    "\n",
    "# Your code here\n",
    "common_el=list(filter(lambda x: x in list2,list1))\n",
    "print(common_el)"
   ]
  },
  {
   "cell_type": "markdown",
   "metadata": {},
   "source": [
    "### Exercise 22: Convert Celsius to Fahrenheit Using Map  \n",
    "Create a program that converts temperatures from Celsius to Fahrenheit using map and lambda functions."
   ]
  },
  {
   "cell_type": "code",
   "execution_count": 33,
   "metadata": {},
   "outputs": [
    {
     "name": "stdout",
     "output_type": "stream",
     "text": [
      "[32, 14, -40]\n"
     ]
    }
   ],
   "source": [
    "celsius_temps = [0, -10, -40]\n",
    "\n",
    "# Your code here\n",
    "Fahrenheit=list(map(lambda x: int(x*9/5)+32, celsius_temps))\n",
    "print(Fahrenheit)"
   ]
  },
  {
   "cell_type": "markdown",
   "metadata": {},
   "source": [
    "### Exercise 23: Check for Prime Numbers Using Filter  \n",
    "Write a Python program that filters out prime numbers from an array of integers using filter and lambda functions."
   ]
  },
  {
   "cell_type": "code",
   "execution_count": 20,
   "metadata": {},
   "outputs": [
    {
     "name": "stdout",
     "output_type": "stream",
     "text": [
      "[23]\n"
     ]
    }
   ],
   "source": [
    "numbers = [10, 15, 23]\n",
    "\n",
    "# Your code here\n",
    "prime_num = list(filter(lambda x: x > 1 and all(x % i != 0 for i in range(2, x//2 + 1)), numbers))\n",
    "print(prime_num)\n"
   ]
  },
  {
   "cell_type": "markdown",
   "metadata": {},
   "source": [
    "### Exercise 24: Grouping by Length Using Lambda  \n",
    "Group words by their lengths from an array into separate lists using lambda functions."
   ]
  },
  {
   "cell_type": "code",
   "execution_count": null,
   "metadata": {},
   "outputs": [
    {
     "name": "stdout",
     "output_type": "stream",
     "text": [
      "{4: ['pear', 'kiwi'], 5: ['apple'], 6: ['banana']}\n"
     ]
    }
   ],
   "source": [
    "words = ['apple', 'banana', 'pear', 'kiwi']\n",
    "\n",
    "# Your code here\n",
    "grouped_words = {l: list(filter(lambda x: len(x) == l, words)) for l in set(map(len, words))}\n",
    "print(grouped_words)"
   ]
  },
  {
   "cell_type": "markdown",
   "metadata": {},
   "source": [
    "### Exercise Completion  \n",
    "Once you have completed all exercises:\n",
    "- Review your solutions.\n",
    "- Ensure your code is well-documented with comments explaining your logic.\n",
    "- Save your notebook for submission or further review.\n",
    "\n",
    "Happy coding! Enjoy exploring functional programming with Python!"
   ]
  }
 ],
 "metadata": {
  "kernelspec": {
   "display_name": "base",
   "language": "python",
   "name": "python3"
  },
  "language_info": {
   "codemirror_mode": {
    "name": "ipython",
    "version": 3
   },
   "file_extension": ".py",
   "mimetype": "text/x-python",
   "name": "python",
   "nbconvert_exporter": "python",
   "pygments_lexer": "ipython3",
   "version": "3.12.7"
  }
 },
 "nbformat": 4,
 "nbformat_minor": 2
}
